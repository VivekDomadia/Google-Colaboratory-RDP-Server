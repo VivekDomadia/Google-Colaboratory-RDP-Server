{
  "nbformat": 4,
  "nbformat_minor": 0,
  "metadata": {
    "colab": {
      "name": "Google-Colaboratory-RDP-Server.ipynb",
      "provenance": []
    },
    "kernelspec": {
      "name": "python3",
      "display_name": "Python 3"
    },
    "language_info": {
      "name": "python"
    }
  },
  "cells": [
    {
      "cell_type": "code",
      "metadata": {
        "id": "T-XAr88ftkaP"
      },
      "source": [
        "! wget https://raw.githubusercontent.com/VivekDomadia/Google-Colaboratory-RDP-Server/master/RDP.sh &> /dev/null\n",
        "! chmod +x RDP.sh\n",
        "! ./RDP.sh"
      ],
      "execution_count": null,
      "outputs": []
    }
  ]
}